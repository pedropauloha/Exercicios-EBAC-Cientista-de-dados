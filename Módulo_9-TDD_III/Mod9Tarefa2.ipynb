{
 "cells": [
  {
   "cell_type": "markdown",
   "metadata": {},
   "source": [
    "# Livro para consulta:\n",
    "- https://jakevdp.github.io/PythonDataScienceHandbook/03.08-aggregation-and-grouping.html\n",
    "- https://jakevdp.github.io/PythonDataScienceHandbook/03.09-pivot-tables.html\n",
    "    "
   ]
  },
  {
   "cell_type": "markdown",
   "metadata": {},
   "source": [
    "# 1. Importando bibliotecas <a name=\"import\"></a>\n",
    "\n",
    "<div style=\"text-align: right\"\n",
    "     \n",
    "[Voltar ao índice](#Contents)"
   ]
  },
  {
   "cell_type": "code",
   "execution_count": 229,
   "metadata": {
    "ExecuteTime": {
     "end_time": "2021-06-06T21:12:37.298706Z",
     "start_time": "2021-06-06T21:12:36.656481Z"
    }
   },
   "outputs": [],
   "source": [
    "import numpy as np\n",
    "import pandas as pd\n",
    "import seaborn as sns\n",
    "import matplotlib.pyplot as plt\n",
    "\n",
    "%matplotlib inline"
   ]
  },
  {
   "cell_type": "markdown",
   "metadata": {},
   "source": [
    "# 2. Carregando o dataframe SINASC <a name=\"read\"></a>\n",
    "<div style=\"text-align: right\"\n",
    "     \n",
    "[Voltar ao índice](#Contents)"
   ]
  },
  {
   "cell_type": "code",
   "execution_count": 230,
   "metadata": {
    "ExecuteTime": {
     "end_time": "2021-06-06T21:12:37.762376Z",
     "start_time": "2021-06-06T21:12:37.728383Z"
    },
    "scrolled": true
   },
   "outputs": [],
   "source": [
    "sinasc_raw = pd.read_csv('SINASC_RO_2019.csv')\n",
    "df = sinasc_raw"
   ]
  },
  {
   "cell_type": "code",
   "execution_count": 231,
   "metadata": {},
   "outputs": [
    {
     "data": {
      "text/html": [
       "<div>\n",
       "<style scoped>\n",
       "    .dataframe tbody tr th:only-of-type {\n",
       "        vertical-align: middle;\n",
       "    }\n",
       "\n",
       "    .dataframe tbody tr th {\n",
       "        vertical-align: top;\n",
       "    }\n",
       "\n",
       "    .dataframe thead th {\n",
       "        text-align: right;\n",
       "    }\n",
       "</style>\n",
       "<table border=\"1\" class=\"dataframe\">\n",
       "  <thead>\n",
       "    <tr style=\"text-align: right;\">\n",
       "      <th></th>\n",
       "      <th>ORIGEM</th>\n",
       "      <th>CODESTAB</th>\n",
       "      <th>CODMUNNASC</th>\n",
       "      <th>LOCNASC</th>\n",
       "      <th>IDADEMAE</th>\n",
       "      <th>ESTCIVMAE</th>\n",
       "      <th>ESCMAE</th>\n",
       "      <th>CODOCUPMAE</th>\n",
       "      <th>QTDFILVIVO</th>\n",
       "      <th>QTDFILMORT</th>\n",
       "      <th>...</th>\n",
       "      <th>KOTELCHUCK</th>\n",
       "      <th>CONTADOR</th>\n",
       "      <th>munResStatus</th>\n",
       "      <th>munResTipo</th>\n",
       "      <th>munResNome</th>\n",
       "      <th>munResUf</th>\n",
       "      <th>munResLat</th>\n",
       "      <th>munResLon</th>\n",
       "      <th>munResAlt</th>\n",
       "      <th>munResArea</th>\n",
       "    </tr>\n",
       "  </thead>\n",
       "  <tbody>\n",
       "    <tr>\n",
       "      <th>0</th>\n",
       "      <td>1</td>\n",
       "      <td>2679477.0</td>\n",
       "      <td>110001</td>\n",
       "      <td>1</td>\n",
       "      <td>19</td>\n",
       "      <td>5.0</td>\n",
       "      <td>8 a 11 anos</td>\n",
       "      <td>NaN</td>\n",
       "      <td>0.0</td>\n",
       "      <td>0.0</td>\n",
       "      <td>...</td>\n",
       "      <td>5</td>\n",
       "      <td>1</td>\n",
       "      <td>ATIVO</td>\n",
       "      <td>MUNIC</td>\n",
       "      <td>Alta Floresta D'Oeste</td>\n",
       "      <td>Rondônia</td>\n",
       "      <td>-11.93554</td>\n",
       "      <td>-61.99982</td>\n",
       "      <td>338.0</td>\n",
       "      <td>7067.025</td>\n",
       "    </tr>\n",
       "    <tr>\n",
       "      <th>1</th>\n",
       "      <td>1</td>\n",
       "      <td>2679477.0</td>\n",
       "      <td>110001</td>\n",
       "      <td>1</td>\n",
       "      <td>29</td>\n",
       "      <td>2.0</td>\n",
       "      <td>8 a 11 anos</td>\n",
       "      <td>999992.0</td>\n",
       "      <td>1.0</td>\n",
       "      <td>0.0</td>\n",
       "      <td>...</td>\n",
       "      <td>5</td>\n",
       "      <td>2</td>\n",
       "      <td>ATIVO</td>\n",
       "      <td>MUNIC</td>\n",
       "      <td>Alta Floresta D'Oeste</td>\n",
       "      <td>Rondônia</td>\n",
       "      <td>-11.93554</td>\n",
       "      <td>-61.99982</td>\n",
       "      <td>338.0</td>\n",
       "      <td>7067.025</td>\n",
       "    </tr>\n",
       "    <tr>\n",
       "      <th>2</th>\n",
       "      <td>1</td>\n",
       "      <td>2679477.0</td>\n",
       "      <td>110001</td>\n",
       "      <td>1</td>\n",
       "      <td>37</td>\n",
       "      <td>9.0</td>\n",
       "      <td>8 a 11 anos</td>\n",
       "      <td>513205.0</td>\n",
       "      <td>2.0</td>\n",
       "      <td>0.0</td>\n",
       "      <td>...</td>\n",
       "      <td>5</td>\n",
       "      <td>3</td>\n",
       "      <td>ATIVO</td>\n",
       "      <td>MUNIC</td>\n",
       "      <td>Alta Floresta D'Oeste</td>\n",
       "      <td>Rondônia</td>\n",
       "      <td>-11.93554</td>\n",
       "      <td>-61.99982</td>\n",
       "      <td>338.0</td>\n",
       "      <td>7067.025</td>\n",
       "    </tr>\n",
       "  </tbody>\n",
       "</table>\n",
       "<p>3 rows × 69 columns</p>\n",
       "</div>"
      ],
      "text/plain": [
       "   ORIGEM   CODESTAB  CODMUNNASC  LOCNASC  IDADEMAE  ESTCIVMAE       ESCMAE  \\\n",
       "0       1  2679477.0      110001        1        19        5.0  8 a 11 anos   \n",
       "1       1  2679477.0      110001        1        29        2.0  8 a 11 anos   \n",
       "2       1  2679477.0      110001        1        37        9.0  8 a 11 anos   \n",
       "\n",
       "   CODOCUPMAE  QTDFILVIVO  QTDFILMORT  ...  KOTELCHUCK CONTADOR munResStatus  \\\n",
       "0         NaN         0.0         0.0  ...           5        1        ATIVO   \n",
       "1    999992.0         1.0         0.0  ...           5        2        ATIVO   \n",
       "2    513205.0         2.0         0.0  ...           5        3        ATIVO   \n",
       "\n",
       "  munResTipo             munResNome  munResUf  munResLat munResLon  munResAlt  \\\n",
       "0      MUNIC  Alta Floresta D'Oeste  Rondônia  -11.93554 -61.99982      338.0   \n",
       "1      MUNIC  Alta Floresta D'Oeste  Rondônia  -11.93554 -61.99982      338.0   \n",
       "2      MUNIC  Alta Floresta D'Oeste  Rondônia  -11.93554 -61.99982      338.0   \n",
       "\n",
       "   munResArea  \n",
       "0    7067.025  \n",
       "1    7067.025  \n",
       "2    7067.025  \n",
       "\n",
       "[3 rows x 69 columns]"
      ]
     },
     "execution_count": 231,
     "metadata": {},
     "output_type": "execute_result"
    }
   ],
   "source": [
    "df.head(3)"
   ]
  },
  {
   "cell_type": "markdown",
   "metadata": {},
   "source": [
    "# Tarefa 2"
   ]
  },
  {
   "cell_type": "markdown",
   "metadata": {},
   "source": [
    "### 1. Crie 2 faixas de Latitude do município (munResLat) sendo uma acima e outra abaixo de -10.5 e aplique o groupby usando essas faixas como chave e realize operações de soma, media, minimo, maximo, mediana, desvio padrao, variancia pra pelo menos 2 variáveis numéricas ainda não utilizadas"
   ]
  },
  {
   "cell_type": "code",
   "execution_count": 232,
   "metadata": {},
   "outputs": [
    {
     "data": {
      "text/html": [
       "<div>\n",
       "<style scoped>\n",
       "    .dataframe tbody tr th:only-of-type {\n",
       "        vertical-align: middle;\n",
       "    }\n",
       "\n",
       "    .dataframe tbody tr th {\n",
       "        vertical-align: top;\n",
       "    }\n",
       "\n",
       "    .dataframe thead th {\n",
       "        text-align: right;\n",
       "    }\n",
       "</style>\n",
       "<table border=\"1\" class=\"dataframe\">\n",
       "  <thead>\n",
       "    <tr style=\"text-align: right;\">\n",
       "      <th></th>\n",
       "      <th>KOTELCHUCK</th>\n",
       "      <th>PARIDADE</th>\n",
       "    </tr>\n",
       "    <tr>\n",
       "      <th>munResLat</th>\n",
       "      <th></th>\n",
       "      <th></th>\n",
       "    </tr>\n",
       "  </thead>\n",
       "  <tbody>\n",
       "    <tr>\n",
       "      <th>False</th>\n",
       "      <td>5.580491</td>\n",
       "      <td>0.228651</td>\n",
       "    </tr>\n",
       "    <tr>\n",
       "      <th>True</th>\n",
       "      <td>2.721405</td>\n",
       "      <td>0.227040</td>\n",
       "    </tr>\n",
       "  </tbody>\n",
       "</table>\n",
       "</div>"
      ],
      "text/plain": [
       "           KOTELCHUCK  PARIDADE\n",
       "munResLat                      \n",
       "False        5.580491  0.228651\n",
       "True         2.721405  0.227040"
      ]
     },
     "execution_count": 232,
     "metadata": {},
     "output_type": "execute_result"
    }
   ],
   "source": [
    "df_abaixo = df['munResLat'] < -10.5\n",
    "df_acima = df['munResLat'] > -10.5\n",
    "\n",
    "df.groupby(df_acima)[['KOTELCHUCK', 'PARIDADE']].sum()\n",
    "df.groupby(df_acima)[['KOTELCHUCK', 'PARIDADE']].mean()\n",
    "df.groupby(df_acima)[['KOTELCHUCK', 'PARIDADE']].min()\n",
    "df.groupby(df_acima)[['KOTELCHUCK', 'PARIDADE']].max()\n",
    "df.groupby(df_abaixo)[['KOTELCHUCK', 'PARIDADE']].median()\n",
    "df.groupby(df_abaixo)[['KOTELCHUCK', 'PARIDADE']].std()\n",
    "df.groupby(df_abaixo)[['KOTELCHUCK', 'PARIDADE']].var()"
   ]
  },
  {
   "cell_type": "markdown",
   "metadata": {},
   "source": [
    "### 2. Crie 2 faixas da área dos municípios (munResArea) sendo uma acima e outra abaixo de 3000 e aplique o groupby usando essas faixas como chave e realize operações de soma, media, minimo, maximo, mediana, desvio padrao, variancia pra pelo menos 2 variáveis numéricas ainda não utilizadas\n"
   ]
  },
  {
   "cell_type": "code",
   "execution_count": 233,
   "metadata": {},
   "outputs": [
    {
     "data": {
      "text/html": [
       "<div>\n",
       "<style scoped>\n",
       "    .dataframe tbody tr th:only-of-type {\n",
       "        vertical-align: middle;\n",
       "    }\n",
       "\n",
       "    .dataframe tbody tr th {\n",
       "        vertical-align: top;\n",
       "    }\n",
       "\n",
       "    .dataframe thead th {\n",
       "        text-align: right;\n",
       "    }\n",
       "</style>\n",
       "<table border=\"1\" class=\"dataframe\">\n",
       "  <thead>\n",
       "    <tr style=\"text-align: right;\">\n",
       "      <th></th>\n",
       "      <th>SEMAGESTAC</th>\n",
       "      <th>MESPRENAT</th>\n",
       "    </tr>\n",
       "    <tr>\n",
       "      <th>munResLat</th>\n",
       "      <th></th>\n",
       "      <th></th>\n",
       "    </tr>\n",
       "  </thead>\n",
       "  <tbody>\n",
       "    <tr>\n",
       "      <th>False</th>\n",
       "      <td>4.083516</td>\n",
       "      <td>577.968642</td>\n",
       "    </tr>\n",
       "    <tr>\n",
       "      <th>True</th>\n",
       "      <td>4.049895</td>\n",
       "      <td>454.767769</td>\n",
       "    </tr>\n",
       "  </tbody>\n",
       "</table>\n",
       "</div>"
      ],
      "text/plain": [
       "           SEMAGESTAC   MESPRENAT\n",
       "munResLat                        \n",
       "False        4.083516  577.968642\n",
       "True         4.049895  454.767769"
      ]
     },
     "execution_count": 233,
     "metadata": {},
     "output_type": "execute_result"
    }
   ],
   "source": [
    "munRes_acima = df['munResArea'] > 3000\n",
    "munRes_abaixo = df['munResArea'] < 3000\n",
    "\n",
    "df.groupby(munRes_acima)[['SEMAGESTAC', 'MESPRENAT']].sum()\n",
    "df.groupby(munRes_acima)[['SEMAGESTAC', 'MESPRENAT']].mean()\n",
    "df.groupby(munRes_acima)[['SEMAGESTAC', 'MESPRENAT']].min()\n",
    "df.groupby(munRes_acima)[['SEMAGESTAC', 'MESPRENAT']].max()\n",
    "df.groupby(df_abaixo)[['SEMAGESTAC', 'MESPRENAT']].median()\n",
    "df.groupby(df_abaixo)[['SEMAGESTAC', 'MESPRENAT']].std()\n",
    "df.groupby(df_abaixo)[['SEMAGESTAC', 'MESPRENAT']].var()"
   ]
  },
  {
   "cell_type": "markdown",
   "metadata": {},
   "source": [
    "### 3. Determine faixas na variável munResAlt e aplique o groupby usando essas faixas como chave e realize operações de soma, media, minimo, maximo, mediana, desvio padrao, variancia pra pelo menos 2 variáveis numéricas ainda não utilizadas"
   ]
  },
  {
   "cell_type": "code",
   "execution_count": 234,
   "metadata": {},
   "outputs": [
    {
     "data": {
      "text/html": [
       "<div>\n",
       "<style scoped>\n",
       "    .dataframe tbody tr th:only-of-type {\n",
       "        vertical-align: middle;\n",
       "    }\n",
       "\n",
       "    .dataframe tbody tr th {\n",
       "        vertical-align: top;\n",
       "    }\n",
       "\n",
       "    .dataframe thead th {\n",
       "        text-align: right;\n",
       "    }\n",
       "</style>\n",
       "<table border=\"1\" class=\"dataframe\">\n",
       "  <thead>\n",
       "    <tr style=\"text-align: right;\">\n",
       "      <th></th>\n",
       "      <th>TPDOCRESP</th>\n",
       "      <th>DTDECLARAC</th>\n",
       "    </tr>\n",
       "    <tr>\n",
       "      <th>munResLat</th>\n",
       "      <th></th>\n",
       "      <th></th>\n",
       "    </tr>\n",
       "  </thead>\n",
       "  <tbody>\n",
       "    <tr>\n",
       "      <th>False</th>\n",
       "      <td>0.953868</td>\n",
       "      <td>7.692879e+13</td>\n",
       "    </tr>\n",
       "    <tr>\n",
       "      <th>True</th>\n",
       "      <td>1.735749</td>\n",
       "      <td>7.597426e+13</td>\n",
       "    </tr>\n",
       "  </tbody>\n",
       "</table>\n",
       "</div>"
      ],
      "text/plain": [
       "           TPDOCRESP    DTDECLARAC\n",
       "munResLat                         \n",
       "False       0.953868  7.692879e+13\n",
       "True        1.735749  7.597426e+13"
      ]
     },
     "execution_count": 234,
     "metadata": {},
     "output_type": "execute_result"
    }
   ],
   "source": [
    "munRes_acima = df['munResAlt'] > 200\n",
    "munRes_abaixo = df['munResAlt'] < 200\n",
    "\n",
    "df.groupby(munRes_acima)[['TPDOCRESP', 'DTDECLARAC']].sum()\n",
    "df.groupby(munRes_acima)[['TPDOCRESP', 'DTDECLARAC']].mean()\n",
    "df.groupby(munRes_acima)[['TPDOCRESP', 'DTDECLARAC']].min()\n",
    "df.groupby(munRes_acima)[['TPDOCRESP', 'DTDECLARAC']].max()\n",
    "df.groupby(df_abaixo)[['TPDOCRESP', 'DTDECLARAC']].median()\n",
    "df.groupby(df_abaixo)[['TPDOCRESP', 'DTDECLARAC']].std()\n",
    "df.groupby(df_abaixo)[['TPDOCRESP', 'DTDECLARAC']].var()"
   ]
  },
  {
   "cell_type": "markdown",
   "metadata": {},
   "source": [
    "### 4. Plote no mesmo grafico ao longo do tempo a idade media das mulheres de cada regiao imediatas de rondonia\n",
    "https://pt.wikipedia.org/wiki/Lista_de_regi%C3%B5es_geogr%C3%A1ficas_intermedi%C3%A1rias_e_imediatas_de_Rond%C3%B4nia"
   ]
  },
  {
   "cell_type": "code",
   "execution_count": 279,
   "metadata": {},
   "outputs": [],
   "source": [
    "df2 = df.copy()"
   ]
  },
  {
   "cell_type": "code",
   "execution_count": 280,
   "metadata": {
    "scrolled": true
   },
   "outputs": [],
   "source": [
    "mapping_imediatas = [\n",
    "    'Porto Velho',\n",
    "    'Ariquemes',\n",
    "    'Jaru',\n",
    "    'Ji-Paraná',\n",
    "    'Cacoal',\n",
    "    'Vilhena',\n",
    "]\n",
    "\n",
    "df2 = df2.loc[df2['munResNome'].isin(mapping_imediatas)]\n",
    "df2 = df2.set_index('munResNome')\n",
    "meanAgeByCity = df2.groupby(['munResNome','DTNASC'])[['IDADEMAE']].mean()"
   ]
  },
  {
   "cell_type": "code",
   "execution_count": 281,
   "metadata": {},
   "outputs": [
    {
     "data": {
      "text/html": [
       "<div>\n",
       "<style scoped>\n",
       "    .dataframe tbody tr th:only-of-type {\n",
       "        vertical-align: middle;\n",
       "    }\n",
       "\n",
       "    .dataframe tbody tr th {\n",
       "        vertical-align: top;\n",
       "    }\n",
       "\n",
       "    .dataframe thead th {\n",
       "        text-align: right;\n",
       "    }\n",
       "</style>\n",
       "<table border=\"1\" class=\"dataframe\">\n",
       "  <thead>\n",
       "    <tr style=\"text-align: right;\">\n",
       "      <th></th>\n",
       "      <th></th>\n",
       "      <th>IDADEMAE</th>\n",
       "    </tr>\n",
       "    <tr>\n",
       "      <th>munResNome</th>\n",
       "      <th>DTNASC</th>\n",
       "      <th></th>\n",
       "    </tr>\n",
       "  </thead>\n",
       "  <tbody>\n",
       "    <tr>\n",
       "      <th rowspan=\"5\" valign=\"top\">Ariquemes</th>\n",
       "      <th>2019-01-01</th>\n",
       "      <td>22.000000</td>\n",
       "    </tr>\n",
       "    <tr>\n",
       "      <th>2019-01-02</th>\n",
       "      <td>26.500000</td>\n",
       "    </tr>\n",
       "    <tr>\n",
       "      <th>2019-01-03</th>\n",
       "      <td>24.333333</td>\n",
       "    </tr>\n",
       "    <tr>\n",
       "      <th>2019-01-04</th>\n",
       "      <td>24.666667</td>\n",
       "    </tr>\n",
       "    <tr>\n",
       "      <th>2019-01-05</th>\n",
       "      <td>23.125000</td>\n",
       "    </tr>\n",
       "    <tr>\n",
       "      <th>...</th>\n",
       "      <th>...</th>\n",
       "      <td>...</td>\n",
       "    </tr>\n",
       "    <tr>\n",
       "      <th rowspan=\"5\" valign=\"top\">Vilhena</th>\n",
       "      <th>2019-12-27</th>\n",
       "      <td>24.000000</td>\n",
       "    </tr>\n",
       "    <tr>\n",
       "      <th>2019-12-28</th>\n",
       "      <td>17.666667</td>\n",
       "    </tr>\n",
       "    <tr>\n",
       "      <th>2019-12-29</th>\n",
       "      <td>25.500000</td>\n",
       "    </tr>\n",
       "    <tr>\n",
       "      <th>2019-12-30</th>\n",
       "      <td>26.600000</td>\n",
       "    </tr>\n",
       "    <tr>\n",
       "      <th>2019-12-31</th>\n",
       "      <td>23.250000</td>\n",
       "    </tr>\n",
       "  </tbody>\n",
       "</table>\n",
       "<p>2118 rows × 1 columns</p>\n",
       "</div>"
      ],
      "text/plain": [
       "                        IDADEMAE\n",
       "munResNome DTNASC               \n",
       "Ariquemes  2019-01-01  22.000000\n",
       "           2019-01-02  26.500000\n",
       "           2019-01-03  24.333333\n",
       "           2019-01-04  24.666667\n",
       "           2019-01-05  23.125000\n",
       "...                          ...\n",
       "Vilhena    2019-12-27  24.000000\n",
       "           2019-12-28  17.666667\n",
       "           2019-12-29  25.500000\n",
       "           2019-12-30  26.600000\n",
       "           2019-12-31  23.250000\n",
       "\n",
       "[2118 rows x 1 columns]"
      ]
     },
     "execution_count": 281,
     "metadata": {},
     "output_type": "execute_result"
    }
   ],
   "source": [
    "meanAgeByCity"
   ]
  },
  {
   "cell_type": "code",
   "execution_count": 276,
   "metadata": {
    "scrolled": false
   },
   "outputs": [
    {
     "data": {
      "text/plain": [
       "<Figure size 720x1152 with 0 Axes>"
      ]
     },
     "execution_count": 276,
     "metadata": {},
     "output_type": "execute_result"
    },
    {
     "data": {
      "image/png": "[encoded data removed]",
      "text/plain": [
       "<Figure size 1296x432 with 1 Axes>"
      ]
     },
     "metadata": {
      "needs_background": "light"
     },
     "output_type": "display_data"
    },
    {
     "data": {
      "text/plain": [
       "<Figure size 720x1152 with 0 Axes>"
      ]
     },
     "metadata": {},
     "output_type": "display_data"
    }
   ],
   "source": [
    "df2.plot(x='DTNASC', y='IDADEMAE', ,figsize=[18,6])\n",
    "plt.figure(figsize=(10,16))"
   ]
  },
  {
   "cell_type": "markdown",
   "metadata": {},
   "source": [
    "### 5. Utilize a tabela do link abaixo e crie faixas utilizando o mapping e gere agrupamentos utilizando essas faixas como chave\n"
   ]
  },
  {
   "cell_type": "markdown",
   "metadata": {},
   "source": [
    "### 5.1 IDH\n",
    "A - https://pt.wikipedia.org/wiki/Lista_de_munic%C3%ADpios_de_Rond%C3%B4nia_por_IDH-M\n"
   ]
  },
  {
   "cell_type": "code",
   "execution_count": 239,
   "metadata": {},
   "outputs": [],
   "source": [
    "df3 = df.copy()"
   ]
  },
  {
   "cell_type": "code",
   "execution_count": 240,
   "metadata": {},
   "outputs": [],
   "source": [
    "df3 = df3.set_index('munResNome')\n",
    "mapping = {\n",
    "    'Porto Velho' : 'IDH-M alto',\n",
    "    'Vilhena' : 'IDH-M alto',\n",
    "    'Cacoal': 'IDH-M alto',\n",
    "    'Cerejeiras' : 'IDH-M médio',\n",
    "    'Jaru' : 'IDH-M médio',\n",
    "    'Colorado do Oeste' : 'IDH-M médio',\n",
    "    'Seringueiras': 'IDH-M baixo',\n",
    "    'Governador Jorge Teixeira': 'IDH-M baixo',\n",
    "    \"Machadinho d'Oeste\": 'IDH-M baixo',\n",
    "}\n",
    "\n",
    "weight = pd.qcut(df3['PESO'], 2)"
   ]
  },
  {
   "cell_type": "code",
   "execution_count": 241,
   "metadata": {
    "scrolled": true
   },
   "outputs": [
    {
     "data": {
      "text/html": [
       "<div>\n",
       "<style scoped>\n",
       "    .dataframe tbody tr th:only-of-type {\n",
       "        vertical-align: middle;\n",
       "    }\n",
       "\n",
       "    .dataframe tbody tr th {\n",
       "        vertical-align: top;\n",
       "    }\n",
       "\n",
       "    .dataframe thead th {\n",
       "        text-align: right;\n",
       "    }\n",
       "</style>\n",
       "<table border=\"1\" class=\"dataframe\">\n",
       "  <thead>\n",
       "    <tr style=\"text-align: right;\">\n",
       "      <th></th>\n",
       "      <th>QTDFILVIVO</th>\n",
       "      <th>QTDFILMORT</th>\n",
       "      <th>APGAR1</th>\n",
       "      <th>PESO</th>\n",
       "    </tr>\n",
       "    <tr>\n",
       "      <th>munResNome</th>\n",
       "      <th></th>\n",
       "      <th></th>\n",
       "      <th></th>\n",
       "      <th></th>\n",
       "    </tr>\n",
       "  </thead>\n",
       "  <tbody>\n",
       "    <tr>\n",
       "      <th>IDH-M alto</th>\n",
       "      <td>1.093078</td>\n",
       "      <td>0.291999</td>\n",
       "      <td>8.249140</td>\n",
       "      <td>3241.898693</td>\n",
       "    </tr>\n",
       "    <tr>\n",
       "      <th>IDH-M baixo</th>\n",
       "      <td>0.836364</td>\n",
       "      <td>0.214545</td>\n",
       "      <td>7.871429</td>\n",
       "      <td>3269.082143</td>\n",
       "    </tr>\n",
       "    <tr>\n",
       "      <th>IDH-M médio</th>\n",
       "      <td>0.915216</td>\n",
       "      <td>0.249621</td>\n",
       "      <td>8.094737</td>\n",
       "      <td>3250.869369</td>\n",
       "    </tr>\n",
       "  </tbody>\n",
       "</table>\n",
       "</div>"
      ],
      "text/plain": [
       "             QTDFILVIVO  QTDFILMORT    APGAR1         PESO\n",
       "munResNome                                                \n",
       "IDH-M alto     1.093078    0.291999  8.249140  3241.898693\n",
       "IDH-M baixo    0.836364    0.214545  7.871429  3269.082143\n",
       "IDH-M médio    0.915216    0.249621  8.094737  3250.869369"
      ]
     },
     "execution_count": 241,
     "metadata": {},
     "output_type": "execute_result"
    }
   ],
   "source": [
    "# Média geral pelos melhores rakeados em cada classificação de IDH Municipal\n",
    "df3.groupby(mapping)[['QTDFILVIVO','QTDFILMORT', 'APGAR1','PESO']].mean()"
   ]
  },
  {
   "cell_type": "code",
   "execution_count": 242,
   "metadata": {},
   "outputs": [
    {
     "data": {
      "text/html": [
       "<div>\n",
       "<style scoped>\n",
       "    .dataframe tbody tr th:only-of-type {\n",
       "        vertical-align: middle;\n",
       "    }\n",
       "\n",
       "    .dataframe tbody tr th {\n",
       "        vertical-align: top;\n",
       "    }\n",
       "\n",
       "    .dataframe thead th {\n",
       "        text-align: right;\n",
       "    }\n",
       "</style>\n",
       "<table border=\"1\" class=\"dataframe\">\n",
       "  <thead>\n",
       "    <tr style=\"text-align: right;\">\n",
       "      <th></th>\n",
       "      <th></th>\n",
       "      <th>QTDFILVIVO</th>\n",
       "      <th>QTDFILMORT</th>\n",
       "      <th>APGAR1</th>\n",
       "    </tr>\n",
       "    <tr>\n",
       "      <th>munResNome</th>\n",
       "      <th>PESO</th>\n",
       "      <th></th>\n",
       "      <th></th>\n",
       "      <th></th>\n",
       "    </tr>\n",
       "  </thead>\n",
       "  <tbody>\n",
       "    <tr>\n",
       "      <th rowspan=\"2\" valign=\"top\">IDH-M alto</th>\n",
       "      <th>(257.999, 3270.0]</th>\n",
       "      <td>1.005139</td>\n",
       "      <td>0.284759</td>\n",
       "      <td>8.194667</td>\n",
       "    </tr>\n",
       "    <tr>\n",
       "      <th>(3270.0, 5985.0]</th>\n",
       "      <td>1.178434</td>\n",
       "      <td>0.299018</td>\n",
       "      <td>8.302728</td>\n",
       "    </tr>\n",
       "    <tr>\n",
       "      <th rowspan=\"2\" valign=\"top\">IDH-M baixo</th>\n",
       "      <th>(257.999, 3270.0]</th>\n",
       "      <td>0.716418</td>\n",
       "      <td>0.253731</td>\n",
       "      <td>7.826087</td>\n",
       "    </tr>\n",
       "    <tr>\n",
       "      <th>(3270.0, 5985.0]</th>\n",
       "      <td>0.950355</td>\n",
       "      <td>0.177305</td>\n",
       "      <td>7.915493</td>\n",
       "    </tr>\n",
       "    <tr>\n",
       "      <th rowspan=\"2\" valign=\"top\">IDH-M médio</th>\n",
       "      <th>(257.999, 3270.0]</th>\n",
       "      <td>0.812689</td>\n",
       "      <td>0.271212</td>\n",
       "      <td>8.040480</td>\n",
       "    </tr>\n",
       "    <tr>\n",
       "      <th>(3270.0, 5985.0]</th>\n",
       "      <td>1.018209</td>\n",
       "      <td>0.227964</td>\n",
       "      <td>8.149321</td>\n",
       "    </tr>\n",
       "  </tbody>\n",
       "</table>\n",
       "</div>"
      ],
      "text/plain": [
       "                               QTDFILVIVO  QTDFILMORT    APGAR1\n",
       "munResNome  PESO                                               \n",
       "IDH-M alto  (257.999, 3270.0]    1.005139    0.284759  8.194667\n",
       "            (3270.0, 5985.0]     1.178434    0.299018  8.302728\n",
       "IDH-M baixo (257.999, 3270.0]    0.716418    0.253731  7.826087\n",
       "            (3270.0, 5985.0]     0.950355    0.177305  7.915493\n",
       "IDH-M médio (257.999, 3270.0]    0.812689    0.271212  8.040480\n",
       "            (3270.0, 5985.0]     1.018209    0.227964  8.149321"
      ]
     },
     "execution_count": 242,
     "metadata": {},
     "output_type": "execute_result"
    }
   ],
   "source": [
    "df3.groupby([mapping, weight])[['QTDFILVIVO','QTDFILMORT', 'APGAR1']].mean()"
   ]
  },
  {
   "cell_type": "markdown",
   "metadata": {},
   "source": [
    "### 5.2 IFDM \n",
    "B - https://pt.wikipedia.org/wiki/Lista_de_munic%C3%ADpios_de_Rond%C3%B4nia_por_IFDM\n"
   ]
  },
  {
   "cell_type": "code",
   "execution_count": null,
   "metadata": {},
   "outputs": [],
   "source": [
    "mapping = {\n",
    "    'Ariquemes' : 'Desenvolvimento moderado',\n",
    "    'Vilhena' : 'Desenvolvimento moderado',\n",
    "    'Pimenta Bueno': 'Desenvolvimento moderado',\n",
    "    \"Espigão d'Oeste\" : 'Desenvolvimento regular',\n",
    "    'Seringueiras' : 'Desenvolvimento regular',\n",
    "    \"Alvorada d'Oeste\" : 'Desenvolvimento regular',\n",
    "}\n",
    "weight = pd.qcut(df3['PESO'], 2)"
   ]
  },
  {
   "cell_type": "code",
   "execution_count": null,
   "metadata": {},
   "outputs": [],
   "source": [
    "df3.groupby(mapping)[['QTDFILVIVO','QTDFILMORT', 'APGAR1']].mean()"
   ]
  },
  {
   "cell_type": "code",
   "execution_count": 244,
   "metadata": {},
   "outputs": [
    {
     "data": {
      "text/html": [
       "<div>\n",
       "<style scoped>\n",
       "    .dataframe tbody tr th:only-of-type {\n",
       "        vertical-align: middle;\n",
       "    }\n",
       "\n",
       "    .dataframe tbody tr th {\n",
       "        vertical-align: top;\n",
       "    }\n",
       "\n",
       "    .dataframe thead th {\n",
       "        text-align: right;\n",
       "    }\n",
       "</style>\n",
       "<table border=\"1\" class=\"dataframe\">\n",
       "  <thead>\n",
       "    <tr style=\"text-align: right;\">\n",
       "      <th></th>\n",
       "      <th></th>\n",
       "      <th>QTDFILVIVO</th>\n",
       "      <th>QTDFILMORT</th>\n",
       "      <th>APGAR1</th>\n",
       "    </tr>\n",
       "    <tr>\n",
       "      <th>munResNome</th>\n",
       "      <th>PESO</th>\n",
       "      <th></th>\n",
       "      <th></th>\n",
       "      <th></th>\n",
       "    </tr>\n",
       "  </thead>\n",
       "  <tbody>\n",
       "    <tr>\n",
       "      <th rowspan=\"2\" valign=\"top\">Desenvolvimento moderado</th>\n",
       "      <th>(257.999, 3270.0]</th>\n",
       "      <td>0.872850</td>\n",
       "      <td>0.247120</td>\n",
       "      <td>8.079316</td>\n",
       "    </tr>\n",
       "    <tr>\n",
       "      <th>(3270.0, 5985.0]</th>\n",
       "      <td>0.982974</td>\n",
       "      <td>0.235058</td>\n",
       "      <td>8.116442</td>\n",
       "    </tr>\n",
       "    <tr>\n",
       "      <th rowspan=\"2\" valign=\"top\">Desenvolvimento regular</th>\n",
       "      <th>(257.999, 3270.0]</th>\n",
       "      <td>0.753247</td>\n",
       "      <td>0.272727</td>\n",
       "      <td>7.649351</td>\n",
       "    </tr>\n",
       "    <tr>\n",
       "      <th>(3270.0, 5985.0]</th>\n",
       "      <td>0.988889</td>\n",
       "      <td>0.200000</td>\n",
       "      <td>7.835165</td>\n",
       "    </tr>\n",
       "  </tbody>\n",
       "</table>\n",
       "</div>"
      ],
      "text/plain": [
       "                                            QTDFILVIVO  QTDFILMORT    APGAR1\n",
       "munResNome               PESO                                               \n",
       "Desenvolvimento moderado (257.999, 3270.0]    0.872850    0.247120  8.079316\n",
       "                         (3270.0, 5985.0]     0.982974    0.235058  8.116442\n",
       "Desenvolvimento regular  (257.999, 3270.0]    0.753247    0.272727  7.649351\n",
       "                         (3270.0, 5985.0]     0.988889    0.200000  7.835165"
      ]
     },
     "execution_count": 244,
     "metadata": {},
     "output_type": "execute_result"
    }
   ],
   "source": [
    "df3.groupby([mapping, weight])[['QTDFILVIVO','QTDFILMORT', 'APGAR1']].mean()"
   ]
  },
  {
   "cell_type": "markdown",
   "metadata": {},
   "source": [
    "### 5.3 PIB\n",
    "C - https://pt.wikipedia.org/wiki/Lista_de_munic%C3%ADpios_de_Rond%C3%B4nia_por_PIB\n"
   ]
  },
  {
   "cell_type": "code",
   "execution_count": 245,
   "metadata": {},
   "outputs": [],
   "source": [
    "mapping = {\n",
    "    'Porto Velho' : 'Acima de 1 Bilhão',\n",
    "    'Ji-Paraná' : 'Acima de 1 Bilhão',\n",
    "    'Vilhena': 'Acima de 1 Bilhão',\n",
    "    'Guajará-Mirim' : 'Acima de 500 Milhões',\n",
    "    'Ouro Preto do Oeste' : 'Acima de 500 Milhões',\n",
    "    'Buritis' : 'Acima de 500 Milhões',\n",
    "    'Alta Floresta do Oeste': 'Acima de 300 Milhões',\n",
    "    'Presidente Médici': 'Acima de 300 Milhões',\n",
    "    \"Cujubim\": 'Acima de 300 Milhões',\n",
    "}\n",
    "weight = pd.qcut(df3['PESO'], 2)"
   ]
  },
  {
   "cell_type": "code",
   "execution_count": 246,
   "metadata": {},
   "outputs": [
    {
     "data": {
      "text/html": [
       "<div>\n",
       "<style scoped>\n",
       "    .dataframe tbody tr th:only-of-type {\n",
       "        vertical-align: middle;\n",
       "    }\n",
       "\n",
       "    .dataframe tbody tr th {\n",
       "        vertical-align: top;\n",
       "    }\n",
       "\n",
       "    .dataframe thead th {\n",
       "        text-align: right;\n",
       "    }\n",
       "</style>\n",
       "<table border=\"1\" class=\"dataframe\">\n",
       "  <thead>\n",
       "    <tr style=\"text-align: right;\">\n",
       "      <th></th>\n",
       "      <th>QTDFILVIVO</th>\n",
       "      <th>QTDFILMORT</th>\n",
       "      <th>APGAR1</th>\n",
       "      <th>PESO</th>\n",
       "    </tr>\n",
       "    <tr>\n",
       "      <th>munResNome</th>\n",
       "      <th></th>\n",
       "      <th></th>\n",
       "      <th></th>\n",
       "      <th></th>\n",
       "    </tr>\n",
       "  </thead>\n",
       "  <tbody>\n",
       "    <tr>\n",
       "      <th>Acima de 1 Bilhão</th>\n",
       "      <td>1.085681</td>\n",
       "      <td>0.284817</td>\n",
       "      <td>8.216672</td>\n",
       "      <td>3243.016463</td>\n",
       "    </tr>\n",
       "    <tr>\n",
       "      <th>Acima de 300 Milhões</th>\n",
       "      <td>1.061508</td>\n",
       "      <td>0.235060</td>\n",
       "      <td>7.915521</td>\n",
       "      <td>3221.064833</td>\n",
       "    </tr>\n",
       "    <tr>\n",
       "      <th>Acima de 500 Milhões</th>\n",
       "      <td>1.276190</td>\n",
       "      <td>0.339564</td>\n",
       "      <td>8.335859</td>\n",
       "      <td>3253.663158</td>\n",
       "    </tr>\n",
       "  </tbody>\n",
       "</table>\n",
       "</div>"
      ],
      "text/plain": [
       "                      QTDFILVIVO  QTDFILMORT    APGAR1         PESO\n",
       "munResNome                                                         \n",
       "Acima de 1 Bilhão       1.085681    0.284817  8.216672  3243.016463\n",
       "Acima de 300 Milhões    1.061508    0.235060  7.915521  3221.064833\n",
       "Acima de 500 Milhões    1.276190    0.339564  8.335859  3253.663158"
      ]
     },
     "execution_count": 246,
     "metadata": {},
     "output_type": "execute_result"
    }
   ],
   "source": [
    "# Média geral pelos melhores rakeados em cada classificação de PIB\n",
    "df3.groupby([mapping])[['QTDFILVIVO','QTDFILMORT', 'APGAR1','PESO']].mean()"
   ]
  },
  {
   "cell_type": "markdown",
   "metadata": {},
   "source": [
    "### Analise as respostas encontradas, tire algum insight delas, conte pra gente algo encontrado nos dados."
   ]
  },
  {
   "cell_type": "markdown",
   "metadata": {},
   "source": [
    "Exemplo:\n",
    "- Ah, descobri que a idade mediana das mulheres que deram a luz no ano de 2019 dos municipios com o PIB mais alto é a maior dentre todas."
   ]
  },
  {
   "cell_type": "markdown",
   "metadata": {},
   "source": [
    "- Municipios com IDH mais alto tinham mais filhos vivos, mas não tinham a menor média de filhos mortos.\n",
    "- Municípios com PIB de 300 milhões tiveram apgar1 menor em comparação aos maiores."
   ]
  }
 ],
 "metadata": {
  "kernelspec": {
   "display_name": "Python 3 (ipykernel)",
   "language": "python",
   "name": "python3"
  },
  "language_info": {
   "codemirror_mode": {
    "name": "ipython",
    "version": 3
   },
   "file_extension": ".py",
   "mimetype": "text/x-python",
   "name": "python",
   "nbconvert_exporter": "python",
   "pygments_lexer": "ipython3",
   "version": "3.9.7"
  },
  "varInspector": {
   "cols": {
    "lenName": 16,
    "lenType": 16,
    "lenVar": 40
   },
   "kernels_config": {
    "python": {
     "delete_cmd_postfix": "",
     "delete_cmd_prefix": "del ",
     "library": "var_list.py",
     "varRefreshCmd": "print(var_dic_list())"
    },
    "r": {
     "delete_cmd_postfix": ") ",
     "delete_cmd_prefix": "rm(",
     "library": "var_list.r",
     "varRefreshCmd": "cat(var_dic_list()) "
    }
   },
   "types_to_exclude": [
    "module",
    "function",
    "builtin_function_or_method",
    "instance",
    "_Feature"
   ],
   "window_display": false
  }
 },
 "nbformat": 4,
 "nbformat_minor": 4
}
